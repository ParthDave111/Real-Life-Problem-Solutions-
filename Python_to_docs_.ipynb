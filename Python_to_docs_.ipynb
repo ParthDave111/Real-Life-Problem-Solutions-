{
  "nbformat": 4,
  "nbformat_minor": 0,
  "metadata": {
    "colab": {
      "provenance": [],
      "authorship_tag": "ABX9TyN+I6PVw3KGbZj5ylPY5FUe",
      "include_colab_link": true
    },
    "kernelspec": {
      "name": "python3",
      "display_name": "Python 3"
    },
    "language_info": {
      "name": "python"
    }
  },
  "cells": [
    {
      "cell_type": "markdown",
      "metadata": {
        "id": "view-in-github",
        "colab_type": "text"
      },
      "source": [
        "<a href=\"https://colab.research.google.com/github/ParthDave111/Real-Life-Problem-Solutions-/blob/main/Python_to_docs_.ipynb\" target=\"_parent\"><img src=\"https://colab.research.google.com/assets/colab-badge.svg\" alt=\"Open In Colab\"/></a>"
      ]
    },
    {
      "cell_type": "code",
      "source": [
        "!pip install python-docx"
      ],
      "metadata": {
        "colab": {
          "base_uri": "https://localhost:8080/"
        },
        "id": "vQfahpTesw_v",
        "outputId": "2e266a6b-ab2b-440e-c4d2-e448deea072a"
      },
      "execution_count": 2,
      "outputs": [
        {
          "output_type": "stream",
          "name": "stdout",
          "text": [
            "Collecting python-docx\n",
            "  Downloading python_docx-1.1.2-py3-none-any.whl.metadata (2.0 kB)\n",
            "Requirement already satisfied: lxml>=3.1.0 in /usr/local/lib/python3.10/dist-packages (from python-docx) (4.9.4)\n",
            "Requirement already satisfied: typing-extensions>=4.9.0 in /usr/local/lib/python3.10/dist-packages (from python-docx) (4.12.2)\n",
            "Downloading python_docx-1.1.2-py3-none-any.whl (244 kB)\n",
            "\u001b[?25l   \u001b[90m━━━━━━━━━━━━━━━━━━━━━━━━━━━━━━━━━━━━━━━━\u001b[0m \u001b[32m0.0/244.3 kB\u001b[0m \u001b[31m?\u001b[0m eta \u001b[36m-:--:--\u001b[0m\r\u001b[2K   \u001b[91m━━━━━━━━━━━━━━━━━━━━━━━━━━━━━━━━━━━━━━\u001b[0m\u001b[91m╸\u001b[0m\u001b[90m━\u001b[0m \u001b[32m235.5/244.3 kB\u001b[0m \u001b[31m7.2 MB/s\u001b[0m eta \u001b[36m0:00:01\u001b[0m\r\u001b[2K   \u001b[90m━━━━━━━━━━━━━━━━━━━━━━━━━━━━━━━━━━━━━━━━\u001b[0m \u001b[32m244.3/244.3 kB\u001b[0m \u001b[31m5.2 MB/s\u001b[0m eta \u001b[36m0:00:00\u001b[0m\n",
            "\u001b[?25hInstalling collected packages: python-docx\n",
            "Successfully installed python-docx-1.1.2\n"
          ]
        }
      ]
    },
    {
      "cell_type": "code",
      "source": [
        "import os"
      ],
      "metadata": {
        "id": "yb307yv_tMUJ"
      },
      "execution_count": 5,
      "outputs": []
    },
    {
      "cell_type": "code",
      "source": [
        "import io"
      ],
      "metadata": {
        "id": "qz3QAyMAuF-B"
      },
      "execution_count": 8,
      "outputs": []
    },
    {
      "cell_type": "code",
      "source": [
        "from IPython.display import FileLink"
      ],
      "metadata": {
        "id": "4mJ7A6sKuG2w"
      },
      "execution_count": 9,
      "outputs": []
    },
    {
      "cell_type": "code",
      "execution_count": 10,
      "metadata": {
        "colab": {
          "base_uri": "https://localhost:8080/",
          "height": 34
        },
        "id": "AwzwWdShsoFz",
        "outputId": "6aef4f9b-d043-4cee-a58d-3d6a55c37f57"
      },
      "outputs": [
        {
          "output_type": "execute_result",
          "data": {
            "text/plain": [
              "/content/dynamic_delta_hedging.docx"
            ],
            "text/html": [
              "<a href='dynamic_delta_hedging.docx' target='_blank'>dynamic_delta_hedging.docx</a><br>"
            ]
          },
          "metadata": {},
          "execution_count": 10
        }
      ],
      "source": [
        "from docx import Document\n",
        "\n",
        "# Create a new Document\n",
        "doc = Document()\n",
        "\n",
        "# Title\n",
        "doc.add_heading('Dynamic Delta Hedging', level=1)\n",
        "\n",
        "# Introduction\n",
        "doc.add_paragraph(\n",
        "    \"Use the following data:\\n\"\n",
        "    \"S0 = 180\\n\"\n",
        "    \"r = 2%\\n\"\n",
        "    \"sigma = 25%\\n\"\n",
        "    \"T = 6 months\\n\"\n",
        "    \"K = 182\\n\"\n",
        ")\n",
        "\n",
        "# Task\n",
        "doc.add_paragraph(\n",
        "    \"a. Price an American Put option with the previous characteristics using a \"\n",
        "    \"3-step binomial tree (without python)\\n\"\n",
        ")\n",
        "\n",
        "# Explanation of steps\n",
        "doc.add_paragraph(\"To price an American put option using a 3-step binomial tree manually, we'll follow these steps:\")\n",
        "\n",
        "doc.add_heading('Step 1: Calculate Parameters', level=2)\n",
        "doc.add_paragraph(\n",
        "    \"dt = T / N\\n\"\n",
        "    \"u = e^(sigma * sqrt(dt))\\n\"\n",
        "    \"d = 1 / u\\n\"\n",
        "    \"m = 1\\n\"\n",
        "    \"p = (e^(r * dt) - d) / (u - d)\\n\"\n",
        ")\n",
        "\n",
        "doc.add_heading('Step 2: Build the Stock Price Tree', level=2)\n",
        "doc.add_paragraph(\n",
        "    \"Calculate the stock prices at each node.\\n\"\n",
        "    \"S_0 = 180\\n\"\n",
        "    \"Calculate S_u, S_d, S_uu, S_ud, S_dd, etc.\\n\"\n",
        ")\n",
        "\n",
        "doc.add_heading('Step 3: Calculate Option Values at Each Node', level=2)\n",
        "doc.add_paragraph(\n",
        "    \"Calculate the option values at the final nodes (maturity) using the put payoff formula:\\n\"\n",
        "    \"Put Payoff = max(K - S, 0)\\n\"\n",
        "    \"Perform backward induction to find the option values at earlier nodes, considering early exercise.\\n\"\n",
        ")\n",
        "\n",
        "# Calculation parameters\n",
        "doc.add_paragraph(\n",
        "    \"Given data:\\n\"\n",
        "    \"S0 = 180\\n\"\n",
        "    \"K = 182\\n\"\n",
        "    \"r = 2% = 0.02\\n\"\n",
        "    \"sigma = 25% = 0.25\\n\"\n",
        "    \"T = 6 months = 0.5 years\\n\"\n",
        "    \"N = 3\\n\"\n",
        ")\n",
        "\n",
        "# Step 1\n",
        "doc.add_heading('Step 1: Calculate Parameters', level=3)\n",
        "doc.add_paragraph(\n",
        "    \"dt = 0.5 / 3 ≈ 0.1667\\n\"\n",
        "    \"u = e^(0.25 * sqrt(0.1667)) ≈ 1.1075\\n\"\n",
        "    \"d = 1 / u ≈ 0.9029\\n\"\n",
        "    \"p = (e^(0.02 * 0.1667) - 0.9029) / (1.1075 - 0.9029) ≈ 0.4909\\n\"\n",
        ")\n",
        "\n",
        "# Step 2\n",
        "doc.add_heading('Step 2: Build the Stock Price Tree', level=3)\n",
        "doc.add_paragraph(\n",
        "    \"S_0 = 180\\n\"\n",
        "    \"S_u = 180 * 1.1075 ≈ 199.35\\n\"\n",
        "    \"S_d = 180 * 0.9029 ≈ 162.52\\n\"\n",
        "    \"S_uu = 199.35 * 1.1075 ≈ 220.80\\n\"\n",
        "    \"S_ud = S_du = 180\\n\"\n",
        "    \"S_dd = 162.52 * 0.9029 ≈ 146.70\\n\"\n",
        "    \"S_uuu = 220.80 * 1.1075 ≈ 244.59\\n\"\n",
        "    \"S_uud = S_udu = S_duu = 199.35\\n\"\n",
        "    \"S_udd = S_dud = S_ddu = 162.52\\n\"\n",
        "    \"S_ddd = 146.70 * 0.9029 ≈ 132.46\\n\"\n",
        ")\n",
        "\n",
        "# Step 3\n",
        "doc.add_heading('Step 3: Calculate Option Values at Each Node', level=3)\n",
        "doc.add_paragraph(\n",
        "    \"Final step (maturity):\\n\"\n",
        "    \"Put Payoff = max(K - S, 0)\\n\"\n",
        "    \"For S_uuu: max(182 - 244.59, 0) = 0\\n\"\n",
        "    \"For S_uud, S_udu, S_duu: max(182 - 199.35, 0) = 0\\n\"\n",
        "    \"For S_udd, S_dud, S_ddu: max(182 - 162.52, 0) = 19.48\\n\"\n",
        "    \"For S_ddd: max(182 - 132.46, 0) = 49.54\\n\"\n",
        ")\n",
        "\n",
        "doc.add_paragraph(\n",
        "    \"Second step (1 period to maturity):\\n\"\n",
        "    \"For S_uu: max(0, e^(-0.02 * 0.1667) * (0.4909 * 0 + 0.5091 * 0)) = 0\\n\"\n",
        "    \"For S_ud, S_du: max(0, e^(-0.02 * 0.1667) * (0.4909 * 0 + 0.5091 * 19.48)) = 9.93\\n\"\n",
        "    \"For S_dd: max(35.30, e^(-0.02 * 0.1667) * (0.4909 * 19.48 + 0.5091 * 49.54)) = 35.30\\n\"\n",
        ")\n",
        "\n",
        "doc.add_paragraph(\n",
        "    \"First step (2 periods to maturity):\\n\"\n",
        "    \"For S_u: max(0, e^(-0.02 * 0.1667) * (0.4909 * 0 + 0.5091 * 9.93)) = 5.00\\n\"\n",
        "    \"For S_d: max(19.48, e^(-0.02 * 0.1667) * (0.4909 * 9.93 + 0.5091 * 35.30)) = 22.60\\n\"\n",
        ")\n",
        "\n",
        "doc.add_paragraph(\n",
        "    \"Initial step (3 periods to maturity):\\n\"\n",
        "    \"V_0 = max(2, e^(-0.02 * 0.1667) * (0.4909 * 5.00 + 0.5091 * 22.60)) = 13.89\\n\"\n",
        ")\n",
        "\n",
        "# Conclusion\n",
        "doc.add_paragraph(\n",
        "    \"So, the price of the American put option using the 3-step binomial tree is approximately $13.89.\"\n",
        ")\n",
        "\n",
        "# Save the document\n",
        "doc.save('dynamic_delta_hedging.docx')\n",
        "\n",
        "# Download the document\n",
        "FileLink('dynamic_delta_hedging.docx')"
      ]
    }
  ]
}